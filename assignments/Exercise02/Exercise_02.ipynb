{
  "cells": [
    {
      "cell_type": "markdown",
      "metadata": {
        "id": "view-in-github",
        "colab_type": "text"
      },
      "source": [
        "<a href=\"https://colab.research.google.com/github/rfechner/DataLiteracy2022/blob/main/assignments/Exercise02/Exercise_02.ipynb\" target=\"_parent\"><img src=\"https://colab.research.google.com/assets/colab-badge.svg\" alt=\"Open In Colab\"/></a>"
      ]
    },
    {
      "cell_type": "markdown",
      "id": "b7a8b68f",
      "metadata": {
        "id": "b7a8b68f"
      },
      "source": [
        "## Data literacy exercise 02\n",
        "\n",
        "This is an additional line, testing the commit from google colab!\n",
        " \n",
        "Machine Learning in Science, University of Tübingen, Winter Semester 2022\n",
        "\n"
      ]
    },
    {
      "cell_type": "markdown",
      "id": "45ad3279",
      "metadata": {
        "id": "45ad3279"
      },
      "source": [
        "### Introduction\n",
        "\n",
        "In this notebook you learn to apply the concepts of *entropy* and *information* to create a bot that can play [Wordle](https://www.nytimes.com/games/wordle/index.html).\n",
        "\n",
        "Wordle is a word game created by Josh Wardle and published by The New York Times. In the game, you have six attempts to guess the five-letter daily word. During each attempt you have to propose a valid five-letter word. After proposing a word you will receive feedback in the form of a pattern of colored tiles. Green indicates a matching letter, yellow indicates a match - but in the wrong spot, and grey indicates that the guessed letter is not in the daily word. For example:\n",
        "\n",
        "you guessed: TABOO\n",
        "\n",
        "⬛⬛🟩⬛⬛\n",
        "\n",
        "B is in the daily word and in the correct spot.\n",
        "\n",
        "\n",
        "You guessed: QUACK\n",
        "\n",
        "⬛🟨⬛⬛⬛\n",
        "\n",
        "U is in the daily word but in a different spot.\n",
        "\n",
        "You might want to play a game before starting this exercise!"
      ]
    },
    {
      "cell_type": "markdown",
      "id": "7313197b",
      "metadata": {
        "id": "7313197b"
      },
      "source": [
        "**Some further notes before starting:**\n",
        "\n",
        "We already included some useful functions for you in the *utils.py* file. These functions will be explained throughout the notebook, so don't worry if they are not clear at this point! Make sure the file is in the same location as this notebook.\n",
        "\n",
        "This exercise is inspired by [3Blue1Brown's video](https://youtu.be/v68zYyaEmEA). Feel free to watch if you are interested, but the exercise should be doable without it."
      ]
    },
    {
      "cell_type": "code",
      "execution_count": null,
      "id": "7e2ab4f8",
      "metadata": {
        "id": "7e2ab4f8"
      },
      "outputs": [],
      "source": [
        "import numpy as np\n",
        "import matplotlib.pyplot as plt\n",
        "from utils import *\n",
        "import os"
      ]
    },
    {
      "cell_type": "markdown",
      "id": "ab99dd2d",
      "metadata": {
        "id": "ab99dd2d"
      },
      "source": [
        "### Loading the data\n",
        "\n",
        "We included a dataset as the *wordle_reduced_dataset.txt* file. This contains a subset of the words used in the actual game, so that your code runs quickly. **Your first objective is to load this dataset** and create a *list*, where each entry is one of the words in the dataset (as a *string*)."
      ]
    },
    {
      "cell_type": "code",
      "execution_count": null,
      "id": "8f3f2db9",
      "metadata": {
        "id": "8f3f2db9"
      },
      "outputs": [],
      "source": [
        "file = # filename or path to file\n",
        "\n",
        "def load_data(file):\n",
        "    \"\"\"\n",
        "    Loads a .txt file to a list\n",
        "    \"\"\"\n",
        "    \n",
        "    # your code here\n",
        "    \n",
        "    return word_list\n",
        "\n",
        "word_list = load_data(file)"
      ]
    },
    {
      "cell_type": "markdown",
      "id": "98b1871b",
      "metadata": {
        "id": "98b1871b"
      },
      "source": [
        "### What is the initial entropy?"
      ]
    },
    {
      "cell_type": "markdown",
      "id": "d7d82ab0",
      "metadata": {
        "id": "d7d82ab0"
      },
      "source": [
        "We learned in the theory exercise of this week that the definition of entropy $H(X)$ for a discrete random variable $X$ is the expected amount of information content: $\\mathbb{E}[I(X)]$. Here, the information content $I(X)$ is defined as : $I(X) = \\log_2\\left(\\frac{1}{p(X)}\\right)$.\n",
        "\n",
        "**Calculate the initial entropy when using this dataset**. You can assume each word in the dataset to be equaly likely to be the daily word."
      ]
    },
    {
      "cell_type": "code",
      "execution_count": null,
      "id": "6801c97c",
      "metadata": {
        "id": "6801c97c"
      },
      "outputs": [],
      "source": [
        "entropy_word_list = # your code here\n"
      ]
    },
    {
      "cell_type": "markdown",
      "id": "922c4b90",
      "metadata": {
        "id": "922c4b90"
      },
      "source": [
        "### Reducing the entropy\n",
        "Our wordle bot will try to make guesses that reduce the entropy as much as possible. We will do this by calculating the expected information gain for each possible word in our dataset and subsequently pick the best candidate word."
      ]
    },
    {
      "cell_type": "markdown",
      "id": "81cd34dc",
      "metadata": {
        "id": "81cd34dc"
      },
      "source": [
        "\n",
        "When we propose a 5 letter word in the wordle game, we receive a pattern (e.g.: ⬛🟩⬛🟩⬛, or ⬛🟨🟩⬛⬛). \n",
        "\n",
        "**How many possible patterns are there?**"
      ]
    },
    {
      "cell_type": "code",
      "execution_count": null,
      "id": "2159f472",
      "metadata": {
        "id": "2159f472"
      },
      "outputs": [],
      "source": [
        "n_patterns = # your code here"
      ]
    },
    {
      "cell_type": "markdown",
      "id": "956605ca",
      "metadata": {
        "id": "956605ca"
      },
      "source": [
        "We will associate each pattern with an index ranging from *0* to *n_patterns-1*. If you want to know what the pattern for a given index looks like you can call the *patterns_to_string* function()"
      ]
    },
    {
      "cell_type": "code",
      "execution_count": null,
      "id": "8f2c7643",
      "metadata": {
        "id": "8f2c7643"
      },
      "outputs": [],
      "source": [
        "pattern_index = 30\n",
        "print(patterns_to_string([pattern_index]))"
      ]
    },
    {
      "cell_type": "markdown",
      "id": "e46b9b18",
      "metadata": {
        "id": "e46b9b18"
      },
      "source": [
        "After proposing a word and receiving a pattern of colored tiles, we can reduce the size of our dataset - we can simply discard all the words that are not consistent with this pattern / word combination! \n",
        "\n",
        "However we do not know what pattern we receive before proposing a word. What we can however calculate, is the probability of receiving each possible pattern (given that we have a list of possible words). We can then use this to calculate the expected information (entropy) gain for the proposed word."
      ]
    },
    {
      "cell_type": "markdown",
      "id": "172ab5ee",
      "metadata": {
        "id": "172ab5ee"
      },
      "source": [
        "We included the function *get_pattern_distributions()* that given a (list of) proposed word(s) and a list all the possible words, returns how often each pattern occurs. We included an example call using the word 'ethic'\n",
        "\n",
        "**Assume our proposed word is 'ethic'. Create a bar plot with the x axis as the pattern indices and the y axis as the number of occurrences of each pattern. Do you see any structure? Explain why this arises.**"
      ]
    },
    {
      "cell_type": "code",
      "execution_count": null,
      "id": "543aa38e",
      "metadata": {
        "id": "543aa38e"
      },
      "outputs": [],
      "source": [
        "pattern_dist_ethic = get_pattern_distributions(['ethic'], word_list)[0]\n",
        "plt.bar(# your code here)\n",
        "# Don't forget to add axis labels. You don't need to show each of the patterns themselves in the x-axis ticks, as that might greatly clutter the plot! "
      ]
    },
    {
      "cell_type": "markdown",
      "id": "33318c7b",
      "metadata": {
        "id": "33318c7b"
      },
      "source": [
        "**Use the pattern distribution above to calculate the expected information gain for the word 'ethic'.** Note that there are quite some patterns that occur with zero probability. To handle numerical errors in the computation of entropy, assume that $-p(x)\\log(p(x)) = 0$ when $p(x) = 0$."
      ]
    },
    {
      "cell_type": "code",
      "execution_count": null,
      "id": "6ae984de",
      "metadata": {
        "id": "6ae984de"
      },
      "outputs": [],
      "source": [
        "def entropy(patterns_dist):\n",
        "    \"\"\"\n",
        "    Calculates the expected information given a distribution of patterns\n",
        "    \"\"\"\n",
        "    \n",
        "    # your code here\n",
        "    \n",
        "    return entropy\n",
        "\n",
        "entropy_ethic = entropy(pattern_dist_ethic)\n"
      ]
    },
    {
      "cell_type": "markdown",
      "id": "b414e587",
      "metadata": {
        "id": "b414e587"
      },
      "source": [
        "### Creating the wordle bot\n",
        "\n",
        "Now we are ready to create a bot that can play wordle! **Complete the best_pick() function**. Your bot can call any of the functions we previously used."
      ]
    },
    {
      "cell_type": "code",
      "execution_count": null,
      "id": "917c7b76",
      "metadata": {
        "id": "917c7b76"
      },
      "outputs": [],
      "source": [
        "class Wordle_bot():\n",
        "    \n",
        "    def __init__(self, word_list):\n",
        "        \"\"\"\n",
        "        Initialize a Wordle bot\n",
        "        \n",
        "        Args:\n",
        "            word_list: list of words that can be used in the wordle game\n",
        "        \"\"\"\n",
        "        \n",
        "        # stores all words in our dataset\n",
        "        self.initial_word_list = word_list.copy()\n",
        "        \n",
        "        # keeps track of all currently allowed words\n",
        "        # this list should get shorter as the game progresses\n",
        "        self.allowed_word_list = word_list.copy() \n",
        "    \n",
        "    def reset(self):\n",
        "        \"\"\"\n",
        "        Resets the bot, all words in the dataset are possible again\n",
        "        \"\"\"\n",
        "        \n",
        "        self.allowed_word_list = self.initial_word_list.copy()\n",
        "    \n",
        "    def initialize_for_next_round(self, allowed_word_list):\n",
        "        \"\"\"\n",
        "        Sets the allowed word list, use after making a guess\n",
        "        \n",
        "        Args:\n",
        "            allowed_word_list: list of words that are still possible answers\n",
        "        \"\"\"\n",
        "        \n",
        "        self.allowed_word_list = allowed_word_list.copy()\n",
        "        \n",
        "        \n",
        "    def best_pick(self):\n",
        "        \"\"\"\n",
        "        Picks the word with the highest expected information gain.\n",
        "        \n",
        "        Returns:\n",
        "            best_word: string, word with highest expected information\n",
        "            \n",
        "        \"\"\"\n",
        "        \n",
        "        # your code here\n",
        "    \n",
        "        return best_word"
      ]
    },
    {
      "cell_type": "markdown",
      "id": "49a91b99",
      "metadata": {
        "id": "49a91b99"
      },
      "source": [
        "**Initialize a bot and find out what is the best word to start a game with** (for this dataset)"
      ]
    },
    {
      "cell_type": "code",
      "execution_count": null,
      "id": "892573ef",
      "metadata": {
        "id": "892573ef"
      },
      "outputs": [],
      "source": [
        "bot = # your code here"
      ]
    },
    {
      "cell_type": "markdown",
      "id": "8363f7c5",
      "metadata": {
        "id": "8363f7c5"
      },
      "source": [
        "### Play a single round\n",
        "\n",
        "**Complete the code below to allow your bot to play a single round of the game** "
      ]
    },
    {
      "cell_type": "code",
      "execution_count": null,
      "id": "c2ec04ca",
      "metadata": {
        "id": "c2ec04ca"
      },
      "outputs": [],
      "source": [
        "bot.reset() # reset the bot before playing a round\n",
        "answer = word_list[np.random.randint(len(word_list))] # pick a random daily word\n",
        "\n",
        "round_n=1\n",
        "guesses=[]\n",
        "score=0\n",
        "possibility_counts=[]\n",
        "patterns = []\n",
        "\n",
        "while guess != answer and round_n <6:\n",
        "    guess = #your code here\n",
        "    pattern = get_pattern(guess, answer)\n",
        "    possibilities = get_possible_words(guess, pattern, bot.allowed_word_list)\n",
        "    bot.initialize_for_next_round(possibilities)\n",
        "\n",
        "    patterns.append(pattern)\n",
        "    guesses.append(guess)    \n",
        "    possibility_counts.append(len(possibilities))\n",
        "    score += 1\n",
        "    round_n+=1\n",
        "\n",
        "print(\"\\n\".join([\n",
        "    \"\",\n",
        "    f\"Score: {score}\",\n",
        "    f\"Answer: {answer}\",\n",
        "    f\"Guesses: {guesses}\",\n",
        "    f\"Reductions: {possibility_counts}\",\n",
        "    *patterns_to_string((*patterns, 3**5 - 1)).split(\"\\n\"),\n",
        "    *\" \" * (6 - len(patterns)),\n",
        "    *\" \" * 2,\n",
        "]))\n"
      ]
    },
    {
      "cell_type": "markdown",
      "id": "809611d1",
      "metadata": {
        "id": "809611d1"
      },
      "source": [
        "### Play all the rounds\n",
        "\n",
        "Once you are confident the bot is working properly, you can use it to play through all possible rounds. **How many attempts does it need to get the right word, on average?** \n"
      ]
    },
    {
      "cell_type": "code",
      "execution_count": null,
      "id": "298e5f03",
      "metadata": {
        "id": "298e5f03"
      },
      "outputs": [],
      "source": [
        "final_result=simulate_games(bot, word_list,quiet=True)"
      ]
    },
    {
      "cell_type": "code",
      "execution_count": null,
      "id": "8e1c21e6",
      "metadata": {
        "id": "8e1c21e6"
      },
      "outputs": [],
      "source": [
        "# your code here"
      ]
    }
  ],
  "metadata": {
    "kernelspec": {
      "display_name": "Python 3 (ipykernel)",
      "language": "python",
      "name": "python3"
    },
    "language_info": {
      "codemirror_mode": {
        "name": "ipython",
        "version": 3
      },
      "file_extension": ".py",
      "mimetype": "text/x-python",
      "name": "python",
      "nbconvert_exporter": "python",
      "pygments_lexer": "ipython3",
      "version": "3.9.10"
    },
    "toc": {
      "base_numbering": 1,
      "nav_menu": {},
      "number_sections": true,
      "sideBar": true,
      "skip_h1_title": false,
      "title_cell": "Table of Contents",
      "title_sidebar": "Contents",
      "toc_cell": false,
      "toc_position": {},
      "toc_section_display": true,
      "toc_window_display": false
    },
    "colab": {
      "provenance": [],
      "include_colab_link": true
    }
  },
  "nbformat": 4,
  "nbformat_minor": 5
}