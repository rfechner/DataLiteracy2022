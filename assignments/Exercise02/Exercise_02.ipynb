{
 "cells": [
  {
   "cell_type": "markdown",
   "id": "5e4bf341",
   "metadata": {
    "colab_type": "text",
    "id": "view-in-github"
   },
   "source": [
    "<a href=\"https://colab.research.google.com/github/rfechner/DataLiteracy2022/blob/main/assignments/Exercise02/Exercise_02.ipynb\" target=\"_parent\"><img src=\"https://colab.research.google.com/assets/colab-badge.svg\" alt=\"Open In Colab\"/></a>"
   ]
  },
  {
   "cell_type": "markdown",
   "id": "b7a8b68f",
   "metadata": {
    "id": "b7a8b68f"
   },
   "source": [
    "## Data literacy exercise 02\n",
    " \n",
    "Machine Learning in Science, University of Tübingen, Winter Semester 2022\n",
    "\n",
    "## Theoretical Part\n",
    "\n",
    "### EXAMple Question\n",
    "\n",
    "A tournament has $N$ levels and $2^N$ players with skills $S_1 > S_2 > ... > S_{2^N}$ . At each level,\n",
    "random pairs are formed and the winner proceeds to the next level. The player with higher\n",
    "skills always wins.\n",
    "\n",
    "(a) What is the probability that the two most skilled players 1 and 2 do not meet at the first\n",
    "level?\n",
    "\n",
    "(b) What is the probability that the two most skilled players 1 and 2 will meet in the final\n",
    "level?\n",
    "\n",
    "(Bonus: can you compute this probability without using the result from part (a)?)\n",
    "\n",
    "### Solution\n",
    "\n",
    "(a) The probability of the two best players not meeting is 1 minus the probability for them to meet. Suppose that player1 is fixed in their position in the bracket. There are now $2^{N} - 1$ possible candidate players to end up in the same group. Thus, the probability of player2 ending up as player1's opponent is $\\frac{1}{2^N - 1}$.\n",
    "\n",
    "From this follows that the probability of the top two players not meeting in the first layer is $1 - \\frac{1}{2^N - 1}$.\n",
    "\n",
    "(b) To meet in the final level, the two players must have missed each other in the $N-1$ levels before that. From our solution of (a) we know that the probability of them not meeting at level $N$ is $1 - \\frac{1}{2^N - 1}$. As the players are \"shuffled\" at each level, we can assume that the probability for them meeting at the top level is equal to the product of the probabilities of them not meeting each other beforehand.\n",
    "\n",
    "$$\\prod_{i=2}^N \\left(1 - \\frac{1}{2^i - 1}\\right)$$\n",
    "\n",
    "### Theory Question\n",
    "\n",
    "Information and entropy are fundamental concepts in probability, and are ubiquitous in statis-\n",
    "tical analysis. In this question we aim to provide you with an intuitive understanding of these\n",
    "quantities.\n",
    "\n",
    "Consider a fair coin $C_f$ and a bent coin $C_b$. $C_f$ has an equal probability of $heads(H)$ and $tails(T)$\n",
    "when tossed, $p(C_f = H) = 0.5$. $C_b$ is biased, with $p(C_b = H) = 0.99$.\n",
    "\n",
    "The information present in a random event $x$ can be defined as a function of the probability of\n",
    "occurence of that event:\n",
    "\n",
    "$$I(x) = log_2( \\frac{1}{p(x)})\n",
    "= − log_2(p(x)).$$\n",
    "\n",
    "(Intuitively, information is the ability to distinguish possibilities. To distinguish $2^k$ possibilities\n",
    "you need $k$ bits of information, hence the log form.)\n",
    "\n",
    "(a) Show that for a set of independently occurring events $x = (x1, x2), I(x) = I(x1) + I(x2)$.\n",
    "For each of the coins $C_f$ and $C_b$, compute the information contained in all possible events\n",
    "when the coin is tossed twice. Interpret these values with the intuition provided above.\n",
    "The *entropy* of a random variable $X$ with probability distribution $p_X$ is the expected information over all possible realizations of $X$:\n",
    "$$H(X) = \\mathbb E_{p_X} [I(x)].$$\n",
    "(In the same way as information, entropy can be interpreted as the average number of bits\n",
    "needed to communicate each event of a random variable.)\n",
    "\n",
    "(b) For each of the two coins $C_f$ and $C_b$, compute the entropy for a single toss of the coin.\n",
    "What is the trend of entropy vs information for different probabilities of heads for a coin?\n",
    "Use the above interpretation to justify your observation.\n",
    "\n",
    "### Solution\n",
    "\n",
    "(a) Assume that (1) $x_1,x_2$ are i.i.d.\n",
    "\n",
    "\n",
    "\\begin{align*}\n",
    "  I(\\mathbf{x}) &= I(p(x_1,x_2))\\\\\n",
    "  &= -log_2(p(x_1, x_2))\\\\\n",
    "  &\\stackrel{(1)}{=} -log_2(p(x_1) \\cdot p(x_2))\\\\\n",
    "  &= -log_2(p(x_1)) -log_2(p(x_2))\\\\\n",
    "  &= I(x_1) + I(x_2)\n",
    "\\end{align*}\n",
    "\n",
    "\n",
    "(1) $C_f$\n",
    "\n",
    "\\begin{align*}\n",
    "  I(C_f = H, C_f = H) &= I(C_f = H) + I(C_f = H)&\\\\\n",
    "  &= -2log_2(p(C_f = H))&\\\\\n",
    "  &= 2&\\\\\n",
    "  I(C_f = H, C_f = T) &= I(C_f = H) + I(C_f = T)&\\\\\n",
    "  &= -log_2(p(C_f = H)) - log_2(p(C_f = T))&\\\\\n",
    "  &= 2&\\\\\n",
    "  I(C_f = T, C_f = H) &= I(C_f = T) + I(C_f = H)&\\\\\n",
    "  &= 2&\\\\\n",
    "  I(C_f = T, C_f = T) &= I(C_f = T) + I(C_f = T)&\\\\\n",
    "  &= -2log_2(p(C_f = T))&\\\\\n",
    "  &= 2&\n",
    "\\end{align*}\n",
    "\n",
    "(2) $C_b$\n",
    "\n",
    "\\begin{align*}\n",
    "  I(C_b = H, C_b = H) &= I(C_b = H) + I(C_b = H)&\\\\\n",
    "  &= -2log_2(p(C_b = H))&\\\\\n",
    "  &\\approx 0.029&\\\\\n",
    "  I(C_b = H, C_b = T) &= I(C_b = H) + I(C_b = T)&\\\\\n",
    "  &= -log_2(p(C_b = H)) - log_2(p(C_b = T))&\\\\\n",
    "  &\\approx 6.657&\\\\\n",
    "  I(C_b = T, C_b = H) &= I(C_b = T) + I(C_b = H)&\\\\\n",
    "  &\\approx 6.657&\\\\\n",
    "  I(C_b = T, C_b = T) &= I(C_b = T) + I(C_b = T)&\\\\\n",
    "  &= -2log_2(p(T))&\\\\\n",
    "  &\\approx 13.287&\n",
    "\\end{align*}\n",
    "\n",
    "\n",
    "(b)\n",
    "\n",
    "(1) $C_f$\n",
    "\n",
    "Assume that $X = \\{H,T\\}$\n",
    "\n",
    "With\n",
    "$$\\mathbb E_{p_X}[I(x)] = \\sum_{x_i \\in X}\\left( p(x_i)\\cdot I(X = x_i)\\right)$$\n",
    "we have \n",
    "\n",
    "\\begin{align*}\n",
    "  \\mathbb E_{p_{C_f}}[I(x)] &= p(C_f = H) \\cdot I(C_f = H) + p(C_f = T) \\cdot I(C_f = T)\\\\\n",
    "  &= 0.5 \\cdot 1 + 0.5 \\cdot 1\\\\\n",
    "  &= 1\n",
    "\\end{align*}\n",
    "\n",
    "(2) $C_b$\n",
    "\n",
    "\\begin{align*}\n",
    "  \\mathbb E_{p_{C_b}}[I(x)] &= p(C_b = H) \\cdot I(C_b = H) + p(C_b = T) \\cdot I(C_b = T)\\\\\n",
    "  &\\approx 0.99 \\cdot 0.0145 + 0.01 \\cdot 6.643\\\\\n",
    "  &\\approx 0.081\n",
    "\\end{align*}\n",
    "\n",
    "The entropy does seem to be inversely related to the information of a random variable. As $C_f$ is fair, the outcome of the cointoss is maximally random. Thus, the entropy is maximized. For the baised coin $C_b$ we have a bias on the outcome of the cointoss, hence the entropy is very small.\n"
   ]
  },
  {
   "cell_type": "markdown",
   "id": "45ad3279",
   "metadata": {
    "id": "45ad3279"
   },
   "source": [
    "### Introduction\n",
    "\n",
    "In this notebook you learn to apply the concepts of *entropy* and *information* to create a bot that can play [Wordle](https://www.nytimes.com/games/wordle/index.html).\n",
    "\n",
    "Wordle is a word game created by Josh Wardle and published by The New York Times. In the game, you have six attempts to guess the five-letter daily word. During each attempt you have to propose a valid five-letter word. After proposing a word you will receive feedback in the form of a pattern of colored tiles. Green indicates a matching letter, yellow indicates a match - but in the wrong spot, and grey indicates that the guessed letter is not in the daily word. For example:\n",
    "\n",
    "you guessed: TABOO\n",
    "\n",
    "⬛⬛🟩⬛⬛\n",
    "\n",
    "B is in the daily word and in the correct spot.\n",
    "\n",
    "\n",
    "You guessed: QUACK\n",
    "\n",
    "⬛🟨⬛⬛⬛\n",
    "\n",
    "U is in the daily word but in a different spot.\n",
    "\n",
    "You might want to play a game before starting this exercise!"
   ]
  },
  {
   "cell_type": "markdown",
   "id": "7313197b",
   "metadata": {
    "id": "7313197b"
   },
   "source": [
    "**Some further notes before starting:**\n",
    "\n",
    "We already included some useful functions for you in the *utils.py* file. These functions will be explained throughout the notebook, so don't worry if they are not clear at this point! Make sure the file is in the same location as this notebook.\n",
    "\n",
    "This exercise is inspired by [3Blue1Brown's video](https://youtu.be/v68zYyaEmEA). Feel free to watch if you are interested, but the exercise should be doable without it."
   ]
  },
  {
   "cell_type": "code",
   "execution_count": 1,
   "id": "7e2ab4f8",
   "metadata": {
    "id": "7e2ab4f8"
   },
   "outputs": [],
   "source": [
    "import numpy as np\n",
    "import matplotlib.pyplot as plt\n",
    "from utils import *\n",
    "import os"
   ]
  },
  {
   "cell_type": "markdown",
   "id": "ab99dd2d",
   "metadata": {
    "id": "ab99dd2d"
   },
   "source": [
    "### Loading the data\n",
    "\n",
    "We included a dataset as the *wordle_reduced_dataset.txt* file. This contains a subset of the words used in the actual game, so that your code runs quickly. **Your first objective is to load this dataset** and create a *list*, where each entry is one of the words in the dataset (as a *string*)."
   ]
  },
  {
   "cell_type": "code",
   "execution_count": 2,
   "id": "8f3f2db9",
   "metadata": {
    "id": "8f3f2db9"
   },
   "outputs": [],
   "source": [
    "file = \"wordle_reduced_dataset.txt\"\n",
    "\n",
    "def load_data(file):\n",
    "    \"\"\"\n",
    "    Loads a .txt file to a list\n",
    "    \"\"\"\n",
    "    word_list = []\n",
    "    # your code here\n",
    "    with open(file, 'r') as f:\n",
    "        \n",
    "        for line in f:\n",
    "            word_list.append(line[:-1])\n",
    "    \n",
    "    return word_list\n",
    "\n",
    "word_list = load_data(file)"
   ]
  },
  {
   "cell_type": "code",
   "execution_count": 3,
   "id": "5ee48086",
   "metadata": {},
   "outputs": [
    {
     "data": {
      "text/plain": [
       "['aback', 'acrid', 'afoot', 'alarm', 'alone']"
      ]
     },
     "execution_count": 3,
     "metadata": {},
     "output_type": "execute_result"
    }
   ],
   "source": [
    "word_list[0:5]"
   ]
  },
  {
   "cell_type": "markdown",
   "id": "98b1871b",
   "metadata": {
    "id": "98b1871b"
   },
   "source": [
    "### What is the initial entropy?"
   ]
  },
  {
   "cell_type": "markdown",
   "id": "d7d82ab0",
   "metadata": {
    "id": "d7d82ab0"
   },
   "source": [
    "We learned in the theory exercise of this week that the definition of entropy $H(X)$ for a discrete random variable $X$ is the expected amount of information content: $\\mathbb{E}[I(X)]$. Here, the information content $I(X)$ is defined as : $I(X) = \\log_2\\left(\\frac{1}{p(X)}\\right)$.\n",
    "\n",
    "**Calculate the initial entropy when using this dataset**. You can assume each word in the dataset to be equaly likely to be the daily word."
   ]
  },
  {
   "cell_type": "code",
   "execution_count": 4,
   "id": "6801c97c",
   "metadata": {
    "id": "6801c97c"
   },
   "outputs": [],
   "source": [
    "information = -np.log2(len(word_list))\n",
    "entropy_word_list = [information for _ in word_list]"
   ]
  },
  {
   "cell_type": "markdown",
   "id": "922c4b90",
   "metadata": {
    "id": "922c4b90"
   },
   "source": [
    "### Reducing the entropy\n",
    "Our wordle bot will try to make guesses that reduce the entropy as much as possible. We will do this by calculating the expected information gain for each possible word in our dataset and subsequently pick the best candidate word."
   ]
  },
  {
   "cell_type": "markdown",
   "id": "81cd34dc",
   "metadata": {
    "id": "81cd34dc"
   },
   "source": [
    "\n",
    "When we propose a 5 letter word in the wordle game, we receive a pattern (e.g.: ⬛🟩⬛🟩⬛, or ⬛🟨🟩⬛⬛). \n",
    "\n",
    "**How many possible patterns are there?**"
   ]
  },
  {
   "cell_type": "code",
   "execution_count": 5,
   "id": "2159f472",
   "metadata": {
    "id": "2159f472"
   },
   "outputs": [],
   "source": [
    "n_patterns = 3**5"
   ]
  },
  {
   "cell_type": "markdown",
   "id": "956605ca",
   "metadata": {
    "id": "956605ca"
   },
   "source": [
    "We will associate each pattern with an index ranging from *0* to *n_patterns-1*. If you want to know what the pattern for a given index looks like you can call the *patterns_to_string* function()"
   ]
  },
  {
   "cell_type": "code",
   "execution_count": 6,
   "id": "8f2c7643",
   "metadata": {
    "id": "8f2c7643"
   },
   "outputs": [
    {
     "name": "stdout",
     "output_type": "stream",
     "text": [
      "⬛🟨⬛🟨⬛\n",
      "⬛🟨🟩⬛⬛\n",
      "⬛⬛🟩🟩🟩\n"
     ]
    }
   ],
   "source": [
    "pattern_index = 30\n",
    "print(patterns_to_string([pattern_index, 21, 234]))"
   ]
  },
  {
   "cell_type": "markdown",
   "id": "e46b9b18",
   "metadata": {
    "id": "e46b9b18"
   },
   "source": [
    "After proposing a word and receiving a pattern of colored tiles, we can reduce the size of our dataset - we can simply discard all the words that are not consistent with this pattern / word combination! \n",
    "\n",
    "However we do not know what pattern we receive before proposing a word. What we can however calculate, is the probability of receiving each possible pattern (given that we have a list of possible words). We can then use this to calculate the expected information (entropy) gain for the proposed word."
   ]
  },
  {
   "cell_type": "markdown",
   "id": "172ab5ee",
   "metadata": {
    "id": "172ab5ee"
   },
   "source": [
    "We included the function *get_pattern_distributions()* that given a (list of) proposed word(s) and a list all the possible words, returns how often each pattern occurs. We included an example call using the word 'ethic'\n",
    "\n",
    "**Assume our proposed word is 'ethic'. Create a bar plot with the x axis as the pattern indices and the y axis as the number of occurrences of each pattern. Do you see any structure? Explain why this arises.**"
   ]
  },
  {
   "cell_type": "code",
   "execution_count": 7,
   "id": "543aa38e",
   "metadata": {
    "id": "543aa38e"
   },
   "outputs": [
    {
     "data": {
      "text/plain": [
       "Text(0, 0.5, 'occurences')"
      ]
     },
     "execution_count": 7,
     "metadata": {},
     "output_type": "execute_result"
    },
    {
     "data": {
      "image/png": "[encoded data removed]",
      "text/plain": [
       "<Figure size 640x480 with 1 Axes>"
      ]
     },
     "metadata": {},
     "output_type": "display_data"
    }
   ],
   "source": [
    "pattern_dist_ethic = get_pattern_distributions(['ethic'], word_list)[0]\n",
    "plt.bar(x=range(n_patterns), height=pattern_dist_ethic)\n",
    "plt.xlabel('pattern code')\n",
    "plt.ylabel('occurences')"
   ]
  },
  {
   "cell_type": "markdown",
   "id": "33318c7b",
   "metadata": {
    "id": "33318c7b"
   },
   "source": [
    "**Use the pattern distribution above to calculate the expected information gain for the word 'ethic'.** Note that there are quite some patterns that occur with zero probability. To handle numerical errors in the computation of entropy, assume that $-p(x)\\log(p(x)) = 0$ when $p(x) = 0$."
   ]
  },
  {
   "cell_type": "code",
   "execution_count": 8,
   "id": "6ae984de",
   "metadata": {
    "id": "6ae984de"
   },
   "outputs": [
    {
     "data": {
      "text/plain": [
       "4.2222713240933345"
      ]
     },
     "execution_count": 8,
     "metadata": {},
     "output_type": "execute_result"
    }
   ],
   "source": [
    "from scipy.stats import entropy as H\n",
    "\n",
    "def entropy(patterns_dist):\n",
    "    \n",
    "    distribution = patterns_dist / sum(patterns_dist)\n",
    "    \n",
    "    return H(distribution, base=2)\n",
    "\n",
    "entropy_ethic = entropy(pattern_dist_ethic)\n",
    "entropy_ethic"
   ]
  },
  {
   "cell_type": "code",
   "execution_count": null,
   "id": "2715e5ab",
   "metadata": {},
   "outputs": [],
   "source": [
    "x = np.linspace(0, 1, 100)\n",
    "ys = [entropy(np.array([p, 1-p]) for p in x"
   ]
  },
  {
   "cell_type": "markdown",
   "id": "b414e587",
   "metadata": {
    "id": "b414e587"
   },
   "source": [
    "### Creating the wordle bot\n",
    "\n",
    "Now we are ready to create a bot that can play wordle! **Complete the best_pick() function**. Your bot can call any of the functions we previously used."
   ]
  },
  {
   "cell_type": "code",
   "execution_count": 15,
   "id": "917c7b76",
   "metadata": {
    "id": "917c7b76"
   },
   "outputs": [],
   "source": [
    "class Wordle_bot():\n",
    "    \n",
    "    def __init__(self, word_list):\n",
    "        \"\"\"\n",
    "        Initialize a Wordle bot\n",
    "        \n",
    "        Args:\n",
    "            word_list: list of words that can be used in the wordle game\n",
    "        \"\"\"\n",
    "        \n",
    "        # stores all words in our dataset\n",
    "        self.initial_word_list = word_list.copy()\n",
    "        \n",
    "        # keeps track of all currently allowed words\n",
    "        # this list should get shorter as the game progresses\n",
    "        self.allowed_word_list = word_list.copy() \n",
    "    \n",
    "    def reset(self):\n",
    "        \"\"\"\n",
    "        Resets the bot, all words in the dataset are possible again\n",
    "        \"\"\"\n",
    "        \n",
    "        self.allowed_word_list = self.initial_word_list.copy()\n",
    "    \n",
    "    def initialize_for_next_round(self, allowed_word_list):\n",
    "        \"\"\"\n",
    "        Sets the allowed word list, use after making a guess\n",
    "        \n",
    "        Args:\n",
    "            allowed_word_list: list of words that are still possible answers\n",
    "        \"\"\"\n",
    "        \n",
    "        self.allowed_word_list = allowed_word_list.copy()\n",
    "        \n",
    "        \n",
    "    def best_pick(self):\n",
    "        \"\"\"\n",
    "        Picks the word with the highest expected information gain.\n",
    "        \n",
    "        Returns:\n",
    "            best_word: string, word with highest expected information\n",
    "            \n",
    "        \"\"\"\n",
    "        \n",
    "        # 1) loop over words in self.allowed_word_list\n",
    "        # 2) keep track of entropies for every word\n",
    "        # 3) select word with maximal entropy\n",
    "        \n",
    "        max_entropy_word = np.argmax([entropy(get_pattern_distributions([word], self.allowed_word_list)[0])\\\n",
    "                                      for word in self.allowed_word_list])\n",
    "        \n",
    "        \n",
    "        return self.allowed_word_list[max_entropy_word]"
   ]
  },
  {
   "cell_type": "markdown",
   "id": "49a91b99",
   "metadata": {
    "id": "49a91b99"
   },
   "source": [
    "**Initialize a bot and find out what is the best word to start a game with** (for this dataset)"
   ]
  },
  {
   "cell_type": "code",
   "execution_count": 19,
   "id": "892573ef",
   "metadata": {
    "id": "892573ef"
   },
   "outputs": [
    {
     "data": {
      "text/plain": [
       "'raise'"
      ]
     },
     "execution_count": 19,
     "metadata": {},
     "output_type": "execute_result"
    }
   ],
   "source": [
    "bot = Wordle_bot(word_list)\n",
    "\n",
    "bot.best_pick()"
   ]
  },
  {
   "cell_type": "code",
   "execution_count": 26,
   "id": "f4057999",
   "metadata": {},
   "outputs": [
    {
     "data": {
      "text/plain": [
       "102"
      ]
     },
     "execution_count": 26,
     "metadata": {},
     "output_type": "execute_result"
    }
   ],
   "source": [
    "word_list.index('raise')"
   ]
  },
  {
   "cell_type": "markdown",
   "id": "8363f7c5",
   "metadata": {
    "id": "8363f7c5"
   },
   "source": [
    "### Play a single round\n",
    "\n",
    "**Complete the code below to allow your bot to play a single round of the game** "
   ]
  },
  {
   "cell_type": "code",
   "execution_count": 31,
   "id": "c2ec04ca",
   "metadata": {
    "id": "c2ec04ca"
   },
   "outputs": [
    {
     "name": "stdout",
     "output_type": "stream",
     "text": [
      "\n",
      "Score: 1\n",
      "Answer: raise\n",
      "Guesses: ['raise']\n",
      "Reductions: [1]\n",
      "🟩🟩🟩🟩🟩\n",
      "🟩🟩🟩🟩🟩\n",
      " \n",
      " \n",
      " \n",
      " \n",
      " \n",
      " \n",
      " \n"
     ]
    }
   ],
   "source": [
    "bot.reset() # reset the bot before playing a round\n",
    "answer = word_list[np.random.randint(len(word_list))] # choose random word\n",
    "\n",
    "round_n=1\n",
    "guesses=[]\n",
    "score=0\n",
    "possibility_counts=[]\n",
    "patterns = []\n",
    "guess = None\n",
    "\n",
    "while guess != answer and round_n <6:\n",
    "    guess = bot.best_pick()\n",
    "    pattern = get_pattern(guess, answer)\n",
    "    possibilities = get_possible_words(guess, pattern, bot.allowed_word_list)\n",
    "    bot.initialize_for_next_round(possibilities)\n",
    "\n",
    "    patterns.append(pattern)\n",
    "    guesses.append(guess)    \n",
    "    possibility_counts.append(len(possibilities))\n",
    "    score += 1\n",
    "    round_n+=1\n",
    "\n",
    "print(\"\\n\".join([\n",
    "    \"\",\n",
    "    f\"Score: {score}\",\n",
    "    f\"Answer: {answer}\",\n",
    "    f\"Guesses: {guesses}\",\n",
    "    f\"Reductions: {possibility_counts}\",\n",
    "    *patterns_to_string((*patterns, 3**5 - 1)).split(\"\\n\"),\n",
    "    *\" \" * (6 - len(patterns)),\n",
    "    *\" \" * 2,\n",
    "]))\n"
   ]
  },
  {
   "cell_type": "markdown",
   "id": "809611d1",
   "metadata": {
    "id": "809611d1"
   },
   "source": [
    "### Play all the rounds\n",
    "\n",
    "Once you are confident the bot is working properly, you can use it to play through all possible rounds. **How many attempts does it need to get the right word, on average?** \n"
   ]
  },
  {
   "cell_type": "code",
   "execution_count": 32,
   "id": "298e5f03",
   "metadata": {
    "id": "298e5f03"
   },
   "outputs": [],
   "source": [
    "final_result=simulate_games(bot, word_list,quiet=True)"
   ]
  },
  {
   "cell_type": "code",
   "execution_count": 34,
   "id": "8e1c21e6",
   "metadata": {
    "id": "8e1c21e6"
   },
   "outputs": [],
   "source": [
    "# your code here\n",
    "average_tries = final_result['average_score']"
   ]
  },
  {
   "cell_type": "code",
   "execution_count": null,
   "id": "5ab45592",
   "metadata": {},
   "outputs": [],
   "source": []
  }
 ],
 "metadata": {
  "colab": {
   "include_colab_link": true,
   "provenance": []
  },
  "kernelspec": {
   "display_name": "Python 3 (ipykernel)",
   "language": "python",
   "name": "python3"
  },
  "language_info": {
   "codemirror_mode": {
    "name": "ipython",
    "version": 3
   },
   "file_extension": ".py",
   "mimetype": "text/x-python",
   "name": "python",
   "nbconvert_exporter": "python",
   "pygments_lexer": "ipython3",
   "version": "3.11.0"
  },
  "toc": {
   "base_numbering": 1,
   "nav_menu": {},
   "number_sections": true,
   "sideBar": true,
   "skip_h1_title": false,
   "title_cell": "Table of Contents",
   "title_sidebar": "Contents",
   "toc_cell": false,
   "toc_position": {},
   "toc_section_display": true,
   "toc_window_display": false
  }
 },
 "nbformat": 4,
 "nbformat_minor": 5
}
