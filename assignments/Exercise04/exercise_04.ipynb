{
 "cells": [
  {
   "cell_type": "code",
   "execution_count": null,
   "id": "6cf79539",
   "metadata": {},
   "outputs": [],
   "source": []
  },
  {
   "cell_type": "markdown",
   "id": "b7a8b68f",
   "metadata": {
    "pycharm": {
     "name": "#%% md\n"
    }
   },
   "source": [
    "## Data literacy exercise 04\n",
    "\n",
    "Machine Learning in Science, University of Tübingen, Winter Semester 2022\n",
    "\n"
   ]
  },
  {
   "cell_type": "markdown",
   "id": "e1149367",
   "metadata": {
    "pycharm": {
     "name": "#%% md\n"
    }
   },
   "source": [
    "## Theoretical Part\n",
    "\n",
    "### 1. EXAMple Question — iPhone sales\n",
    "\n",
    "(a) Observing a single serial number $x_i$ from a set of possible observations $X = \\{x_1, ..., x_N\\}$ where $N$ is the only parameter of our model, reaffirms our belief about said parameter $N$.\n",
    "\n",
    "Given a model $\\theta$ with parameter $N$, a single sample can only either support the model fully (in case $x_i \\leq N$), or disprove the model (in case $x_i \\geq N$). In the latter case, the drawn $x_i$ becomes our new estimate for the model.\n",
    "\n",
    "The probability for observing $x_i$ with fixed $N$ is $P(x_i | \\theta = N) = \\frac{1}{N}$. For i.i.d data, the maximum likelihood estimate for $N$ is given by \n",
    "$$\\theta_{MLE} = \\text{argmax}_{\\theta} \\left( \\sum_{i}^D log(x_i | \\theta)\\right)$$\n",
    "\n",
    "Since we model a uniform distribution, the theta which maximizes the likelihoods for the individual observations is equal to the maximum observation.\n",
    "\n",
    "An alternative to the simple MLE is given briefly. We want to express our belief about the model $\\theta$ given a series of data. Intuitively, we would never expect to draw the maximum $x_i = N$ for a low sample size, although we would think that our maximum observed $x_i$ comes closer to the true $N$ as we increase sample size.\n",
    "\n",
    "This is captured in the estimator $\\hat{N} = \\frac{(M-1)(S+1)}{S}$ presented in $\\texttt{https://www.theguardian.com/technology/blog/2008/oct/08/iphone.apple}$, where $M$ is the maximum observation and $S$ is the sample size.\n",
    "\n",
    "\n",
    "\n",
    "(b) From (a), we can directly see that $ \\theta_{MLE} = \\text{max}_i \\{x_i \\in D\\} = 3872915$.\n",
    "\n",
    "(c) The sample size $S = 5$ is very small, increasing the uncertainty about the estimated parameter $\\hat{N}$. The problem lies with the dependence on the occurence of a sample close to the true $N$. Assume that we would not have observed $x_4 = 3872915$. This would have a dramatic impact on the estimated parameter.\n",
    "\n",
    "### 2. Theory Question — Exam room booking\n",
    "\n",
    "\n",
    "(a) The probability for a single observation $k$ given the binomial model $\\theta$ is given by \n",
    "$$P(k | \\theta) = \\binom{n}{k}p^{k}(1-p)^{n-k}$$\n",
    "\n",
    "The joint likelihood of the N i.i.d. samples is given by \n",
    "$$\\prod_{i}^{N}P(x_i | \\theta)$$\n",
    "\n",
    "(b) \n",
    "\n",
    "$\n",
    "\\begin{align*}\n",
    "\\theta_{MLE} &= \\text{argmax}_{\\theta} \\left(\\prod_{i}^{N}P(x_i | \\theta)\\right)\\\\\n",
    "&= \\text{argmax}_{\\theta} \\left(\\sum_{i}^N log(\\binom{n}{k}\\theta^{k}(1-\\theta)^{n-k})\\right)\\\\\n",
    "&= \\text{argmax}_{\\theta} \\left(\\sum_{i}^N k\\cdot log(\\theta) + (n-k)\\cdot log(1-\\theta)\\right)\\\\\n",
    "&= \\text{argmin}_{\\theta} \\left(\\sum_{i}^N -k\\cdot log(\\theta) - (n-k)\\cdot log(1-\\theta)\\right)\n",
    "\\end{align*}$\n",
    "\n",
    "$\\Rightarrow \\text{find minimum for }\\theta$\n",
    "\n",
    "$\\begin{align*}\n",
    "\\nabla_{\\theta}L &= \\sum_{i}^N \\left( -\\frac{k}{\\theta} - \\frac{k-n}{1 - \\theta}\\right)\\\\\n",
    "&= \\sum_{i}^N \\left( -\\frac{k(1 - \\theta) + \\theta (k- n)}{\\theta (1 -  \\theta)}\\right)\\\\\n",
    "&= \\sum_{i}^N \\left( \\frac{\\theta n - k}{\\theta (1 -  \\theta)}\\right) \\overset{!}{=} 0\\\\\n",
    "&\\Rightarrow N\\cdot n \\cdot \\theta - k_1 - k_2 - ... - k_N\\overset{!}{=} 0\\\\\n",
    "&\\Rightarrow \\theta = \\frac{\\sum_{i}^N k_i}{N\\cdot n}\n",
    "\\end{align*}$\n",
    "\n",
    "$\\theta_{MLE} = \\frac{883}{13 \\cdot 100} \\approx 0.679$\n",
    "\n",
    "(c) The probability of accomodating all students is the probability for observing 0 to 75 students to come to the exam. Thus, we sum over all proabbilities ($P(k = 0|\\theta) + P(k = 1|\\theta) + ... + P(k = 75|\\theta)$) given $\\theta = 0.679$."
   ]
  },
  {
   "cell_type": "code",
   "execution_count": 1,
   "id": "04ff4f7b",
   "metadata": {
    "pycharm": {
     "name": "#%%\n"
    }
   },
   "outputs": [
    {
     "data": {
      "text/plain": [
       "0.9508533262379899"
      ]
     },
     "execution_count": 1,
     "metadata": {},
     "output_type": "execute_result"
    }
   ],
   "source": [
    "from math import comb\n",
    "N = 100\n",
    "res = sum([comb(N,k) * 0.679**k * (1-0.679)**(N-k) for k in range(1, 76)])\n",
    "res"
   ]
  },
  {
   "cell_type": "markdown",
   "id": "a4646ff1",
   "metadata": {
    "pycharm": {
     "name": "#%% md\n"
    }
   },
   "source": [
    "Thus, we can see, that there is a 95% chance of getting everybody a seat, if booking a room with size 75."
   ]
  },
  {
   "cell_type": "markdown",
   "id": "45ad3279",
   "metadata": {
    "pycharm": {
     "name": "#%% md\n"
    }
   },
   "source": [
    "### Introduction\n",
    "\n",
    "In this notebook, you will calculate the mean age of the Titanic passengers and use bootstrapping to compute the respective confidence intervals. You will use the well-known [titanic dataset](https://www.kaggle.com/competitions/titanic/data?select=train.csv).\n",
    "\n",
    "Consider a dataset $D = \\{x_1,\\dots,x_N \\}$ assumed to be drawn i.i.d. from some distribution $p(x\\mid\\phi)$. Let us assume we have computed a *statistic* $\\hat\\phi = f(X)$ for $\\phi$ from the data.\n",
    "\n",
    "A simple alternative to confidence estimation is to \n",
    "1. **simulate $B$ additional experiments** $D^b = \\{x_1 ^b,\\dots,x_N^b\\}$ for $b=1,\\dots,B$ by *drawing $x_j ^b$ with replacement from the original dataset*. \n",
    "2. Use the samples to compute statistics *of the estimator $\\hat{\\phi}$*. For example, estimate the variance of $\\hat{\\phi}$ as\n",
    "\n",
    "$$ v_\\text{boot} = \\frac{1}{B-1}\\sum_{b=1}^B \\left(f(X^b)  - \\frac{1}{B}\\sum_{r =1}^B f(X^r)\\right)^2 $$\n",
    "\n",
    "This is known as *the bootstrap*. It works because one can think of \n",
    "      $$ p(x\\mid\\phi) \\approx \\frac{1}{n} \\sum_{i}^n \\delta(x - x_i) $$\n",
    "where $\\delta(\\cdot)$ is the Kronecker delta. So sampling from $X$ with replacement is an approximation of sampling from $p$. But this obviously only works if $n$ is large.\n",
    "\n",
    "*(Taken from Data Literacy — P. Hennig, WS 2021/22— Lecture 04: Confidence)*"
   ]
  },
  {
   "cell_type": "code",
   "execution_count": 2,
   "id": "b67d5a19",
   "metadata": {
    "pycharm": {
     "name": "#%%\n"
    }
   },
   "outputs": [],
   "source": [
    "import pandas as pd\n",
    "import numpy as np\n",
    "from numpy.random import default_rng\n",
    "import matplotlib.pyplot as plt\n",
    "import scipy"
   ]
  },
  {
   "cell_type": "markdown",
   "id": "6992bf6e",
   "metadata": {
    "pycharm": {
     "name": "#%% md\n"
    }
   },
   "source": [
    "# Data preparation"
   ]
  },
  {
   "cell_type": "markdown",
   "id": "236464d5",
   "metadata": {
    "pycharm": {
     "name": "#%% md\n"
    }
   },
   "source": [
    "Your first task is to load the dataset (you can find it on ILIAS as `train.csv` or on [kaggle](https://www.kaggle.com/competitions/titanic/data?select=train.csv)) and filter out all rows which have a missing value for \"Age\" (one could argue that missing values should influence our confidence in an estimator but we will use this simplifying shortcut here)."
   ]
  },
  {
   "cell_type": "code",
   "execution_count": 3,
   "id": "2431acfb",
   "metadata": {
    "pycharm": {
     "name": "#%%\n"
    }
   },
   "outputs": [
    {
     "data": {
      "text/html": [
       "<div>\n",
       "<style scoped>\n",
       "    .dataframe tbody tr th:only-of-type {\n",
       "        vertical-align: middle;\n",
       "    }\n",
       "\n",
       "    .dataframe tbody tr th {\n",
       "        vertical-align: top;\n",
       "    }\n",
       "\n",
       "    .dataframe thead th {\n",
       "        text-align: right;\n",
       "    }\n",
       "</style>\n",
       "<table border=\"1\" class=\"dataframe\">\n",
       "  <thead>\n",
       "    <tr style=\"text-align: right;\">\n",
       "      <th></th>\n",
       "      <th>PassengerId</th>\n",
       "      <th>Survived</th>\n",
       "      <th>Pclass</th>\n",
       "      <th>Name</th>\n",
       "      <th>Sex</th>\n",
       "      <th>Age</th>\n",
       "      <th>SibSp</th>\n",
       "      <th>Parch</th>\n",
       "      <th>Ticket</th>\n",
       "      <th>Fare</th>\n",
       "      <th>Cabin</th>\n",
       "      <th>Embarked</th>\n",
       "    </tr>\n",
       "  </thead>\n",
       "  <tbody>\n",
       "    <tr>\n",
       "      <th>0</th>\n",
       "      <td>1</td>\n",
       "      <td>0</td>\n",
       "      <td>3</td>\n",
       "      <td>Braund, Mr. Owen Harris</td>\n",
       "      <td>male</td>\n",
       "      <td>22.0</td>\n",
       "      <td>1</td>\n",
       "      <td>0</td>\n",
       "      <td>A/5 21171</td>\n",
       "      <td>7.2500</td>\n",
       "      <td>NaN</td>\n",
       "      <td>S</td>\n",
       "    </tr>\n",
       "    <tr>\n",
       "      <th>1</th>\n",
       "      <td>2</td>\n",
       "      <td>1</td>\n",
       "      <td>1</td>\n",
       "      <td>Cumings, Mrs. John Bradley (Florence Briggs Th...</td>\n",
       "      <td>female</td>\n",
       "      <td>38.0</td>\n",
       "      <td>1</td>\n",
       "      <td>0</td>\n",
       "      <td>PC 17599</td>\n",
       "      <td>71.2833</td>\n",
       "      <td>C85</td>\n",
       "      <td>C</td>\n",
       "    </tr>\n",
       "    <tr>\n",
       "      <th>2</th>\n",
       "      <td>3</td>\n",
       "      <td>1</td>\n",
       "      <td>3</td>\n",
       "      <td>Heikkinen, Miss. Laina</td>\n",
       "      <td>female</td>\n",
       "      <td>26.0</td>\n",
       "      <td>0</td>\n",
       "      <td>0</td>\n",
       "      <td>STON/O2. 3101282</td>\n",
       "      <td>7.9250</td>\n",
       "      <td>NaN</td>\n",
       "      <td>S</td>\n",
       "    </tr>\n",
       "    <tr>\n",
       "      <th>3</th>\n",
       "      <td>4</td>\n",
       "      <td>1</td>\n",
       "      <td>1</td>\n",
       "      <td>Futrelle, Mrs. Jacques Heath (Lily May Peel)</td>\n",
       "      <td>female</td>\n",
       "      <td>35.0</td>\n",
       "      <td>1</td>\n",
       "      <td>0</td>\n",
       "      <td>113803</td>\n",
       "      <td>53.1000</td>\n",
       "      <td>C123</td>\n",
       "      <td>S</td>\n",
       "    </tr>\n",
       "    <tr>\n",
       "      <th>4</th>\n",
       "      <td>5</td>\n",
       "      <td>0</td>\n",
       "      <td>3</td>\n",
       "      <td>Allen, Mr. William Henry</td>\n",
       "      <td>male</td>\n",
       "      <td>35.0</td>\n",
       "      <td>0</td>\n",
       "      <td>0</td>\n",
       "      <td>373450</td>\n",
       "      <td>8.0500</td>\n",
       "      <td>NaN</td>\n",
       "      <td>S</td>\n",
       "    </tr>\n",
       "    <tr>\n",
       "      <th>...</th>\n",
       "      <td>...</td>\n",
       "      <td>...</td>\n",
       "      <td>...</td>\n",
       "      <td>...</td>\n",
       "      <td>...</td>\n",
       "      <td>...</td>\n",
       "      <td>...</td>\n",
       "      <td>...</td>\n",
       "      <td>...</td>\n",
       "      <td>...</td>\n",
       "      <td>...</td>\n",
       "      <td>...</td>\n",
       "    </tr>\n",
       "    <tr>\n",
       "      <th>886</th>\n",
       "      <td>887</td>\n",
       "      <td>0</td>\n",
       "      <td>2</td>\n",
       "      <td>Montvila, Rev. Juozas</td>\n",
       "      <td>male</td>\n",
       "      <td>27.0</td>\n",
       "      <td>0</td>\n",
       "      <td>0</td>\n",
       "      <td>211536</td>\n",
       "      <td>13.0000</td>\n",
       "      <td>NaN</td>\n",
       "      <td>S</td>\n",
       "    </tr>\n",
       "    <tr>\n",
       "      <th>887</th>\n",
       "      <td>888</td>\n",
       "      <td>1</td>\n",
       "      <td>1</td>\n",
       "      <td>Graham, Miss. Margaret Edith</td>\n",
       "      <td>female</td>\n",
       "      <td>19.0</td>\n",
       "      <td>0</td>\n",
       "      <td>0</td>\n",
       "      <td>112053</td>\n",
       "      <td>30.0000</td>\n",
       "      <td>B42</td>\n",
       "      <td>S</td>\n",
       "    </tr>\n",
       "    <tr>\n",
       "      <th>888</th>\n",
       "      <td>889</td>\n",
       "      <td>0</td>\n",
       "      <td>3</td>\n",
       "      <td>Johnston, Miss. Catherine Helen \"Carrie\"</td>\n",
       "      <td>female</td>\n",
       "      <td>NaN</td>\n",
       "      <td>1</td>\n",
       "      <td>2</td>\n",
       "      <td>W./C. 6607</td>\n",
       "      <td>23.4500</td>\n",
       "      <td>NaN</td>\n",
       "      <td>S</td>\n",
       "    </tr>\n",
       "    <tr>\n",
       "      <th>889</th>\n",
       "      <td>890</td>\n",
       "      <td>1</td>\n",
       "      <td>1</td>\n",
       "      <td>Behr, Mr. Karl Howell</td>\n",
       "      <td>male</td>\n",
       "      <td>26.0</td>\n",
       "      <td>0</td>\n",
       "      <td>0</td>\n",
       "      <td>111369</td>\n",
       "      <td>30.0000</td>\n",
       "      <td>C148</td>\n",
       "      <td>C</td>\n",
       "    </tr>\n",
       "    <tr>\n",
       "      <th>890</th>\n",
       "      <td>891</td>\n",
       "      <td>0</td>\n",
       "      <td>3</td>\n",
       "      <td>Dooley, Mr. Patrick</td>\n",
       "      <td>male</td>\n",
       "      <td>32.0</td>\n",
       "      <td>0</td>\n",
       "      <td>0</td>\n",
       "      <td>370376</td>\n",
       "      <td>7.7500</td>\n",
       "      <td>NaN</td>\n",
       "      <td>Q</td>\n",
       "    </tr>\n",
       "  </tbody>\n",
       "</table>\n",
       "<p>891 rows × 12 columns</p>\n",
       "</div>"
      ],
      "text/plain": [
       "     PassengerId  Survived  Pclass  \\\n",
       "0              1         0       3   \n",
       "1              2         1       1   \n",
       "2              3         1       3   \n",
       "3              4         1       1   \n",
       "4              5         0       3   \n",
       "..           ...       ...     ...   \n",
       "886          887         0       2   \n",
       "887          888         1       1   \n",
       "888          889         0       3   \n",
       "889          890         1       1   \n",
       "890          891         0       3   \n",
       "\n",
       "                                                  Name     Sex   Age  SibSp  \\\n",
       "0                              Braund, Mr. Owen Harris    male  22.0      1   \n",
       "1    Cumings, Mrs. John Bradley (Florence Briggs Th...  female  38.0      1   \n",
       "2                               Heikkinen, Miss. Laina  female  26.0      0   \n",
       "3         Futrelle, Mrs. Jacques Heath (Lily May Peel)  female  35.0      1   \n",
       "4                             Allen, Mr. William Henry    male  35.0      0   \n",
       "..                                                 ...     ...   ...    ...   \n",
       "886                              Montvila, Rev. Juozas    male  27.0      0   \n",
       "887                       Graham, Miss. Margaret Edith  female  19.0      0   \n",
       "888           Johnston, Miss. Catherine Helen \"Carrie\"  female   NaN      1   \n",
       "889                              Behr, Mr. Karl Howell    male  26.0      0   \n",
       "890                                Dooley, Mr. Patrick    male  32.0      0   \n",
       "\n",
       "     Parch            Ticket     Fare Cabin Embarked  \n",
       "0        0         A/5 21171   7.2500   NaN        S  \n",
       "1        0          PC 17599  71.2833   C85        C  \n",
       "2        0  STON/O2. 3101282   7.9250   NaN        S  \n",
       "3        0            113803  53.1000  C123        S  \n",
       "4        0            373450   8.0500   NaN        S  \n",
       "..     ...               ...      ...   ...      ...  \n",
       "886      0            211536  13.0000   NaN        S  \n",
       "887      0            112053  30.0000   B42        S  \n",
       "888      2        W./C. 6607  23.4500   NaN        S  \n",
       "889      0            111369  30.0000  C148        C  \n",
       "890      0            370376   7.7500   NaN        Q  \n",
       "\n",
       "[891 rows x 12 columns]"
      ]
     },
     "execution_count": 3,
     "metadata": {},
     "output_type": "execute_result"
    }
   ],
   "source": [
    "import os\n",
    "\n",
    "path_data_train = os.path.join(os.curdir, 'titanic/train.csv')\n",
    "df = pd.read_csv(path_data_train) # TODO: Load dataset\n",
    "df"
   ]
  },
  {
   "cell_type": "code",
   "execution_count": 4,
   "id": "616012af",
   "metadata": {
    "pycharm": {
     "name": "#%%\n"
    }
   },
   "outputs": [
    {
     "data": {
      "text/html": [
       "<div>\n",
       "<style scoped>\n",
       "    .dataframe tbody tr th:only-of-type {\n",
       "        vertical-align: middle;\n",
       "    }\n",
       "\n",
       "    .dataframe tbody tr th {\n",
       "        vertical-align: top;\n",
       "    }\n",
       "\n",
       "    .dataframe thead th {\n",
       "        text-align: right;\n",
       "    }\n",
       "</style>\n",
       "<table border=\"1\" class=\"dataframe\">\n",
       "  <thead>\n",
       "    <tr style=\"text-align: right;\">\n",
       "      <th></th>\n",
       "      <th>PassengerId</th>\n",
       "      <th>Survived</th>\n",
       "      <th>Pclass</th>\n",
       "      <th>Name</th>\n",
       "      <th>Sex</th>\n",
       "      <th>Age</th>\n",
       "      <th>SibSp</th>\n",
       "      <th>Parch</th>\n",
       "      <th>Ticket</th>\n",
       "      <th>Fare</th>\n",
       "      <th>Cabin</th>\n",
       "      <th>Embarked</th>\n",
       "    </tr>\n",
       "  </thead>\n",
       "  <tbody>\n",
       "    <tr>\n",
       "      <th>0</th>\n",
       "      <td>1</td>\n",
       "      <td>0</td>\n",
       "      <td>3</td>\n",
       "      <td>Braund, Mr. Owen Harris</td>\n",
       "      <td>male</td>\n",
       "      <td>22.0</td>\n",
       "      <td>1</td>\n",
       "      <td>0</td>\n",
       "      <td>A/5 21171</td>\n",
       "      <td>7.2500</td>\n",
       "      <td>NaN</td>\n",
       "      <td>S</td>\n",
       "    </tr>\n",
       "    <tr>\n",
       "      <th>1</th>\n",
       "      <td>2</td>\n",
       "      <td>1</td>\n",
       "      <td>1</td>\n",
       "      <td>Cumings, Mrs. John Bradley (Florence Briggs Th...</td>\n",
       "      <td>female</td>\n",
       "      <td>38.0</td>\n",
       "      <td>1</td>\n",
       "      <td>0</td>\n",
       "      <td>PC 17599</td>\n",
       "      <td>71.2833</td>\n",
       "      <td>C85</td>\n",
       "      <td>C</td>\n",
       "    </tr>\n",
       "    <tr>\n",
       "      <th>2</th>\n",
       "      <td>3</td>\n",
       "      <td>1</td>\n",
       "      <td>3</td>\n",
       "      <td>Heikkinen, Miss. Laina</td>\n",
       "      <td>female</td>\n",
       "      <td>26.0</td>\n",
       "      <td>0</td>\n",
       "      <td>0</td>\n",
       "      <td>STON/O2. 3101282</td>\n",
       "      <td>7.9250</td>\n",
       "      <td>NaN</td>\n",
       "      <td>S</td>\n",
       "    </tr>\n",
       "    <tr>\n",
       "      <th>3</th>\n",
       "      <td>4</td>\n",
       "      <td>1</td>\n",
       "      <td>1</td>\n",
       "      <td>Futrelle, Mrs. Jacques Heath (Lily May Peel)</td>\n",
       "      <td>female</td>\n",
       "      <td>35.0</td>\n",
       "      <td>1</td>\n",
       "      <td>0</td>\n",
       "      <td>113803</td>\n",
       "      <td>53.1000</td>\n",
       "      <td>C123</td>\n",
       "      <td>S</td>\n",
       "    </tr>\n",
       "    <tr>\n",
       "      <th>4</th>\n",
       "      <td>5</td>\n",
       "      <td>0</td>\n",
       "      <td>3</td>\n",
       "      <td>Allen, Mr. William Henry</td>\n",
       "      <td>male</td>\n",
       "      <td>35.0</td>\n",
       "      <td>0</td>\n",
       "      <td>0</td>\n",
       "      <td>373450</td>\n",
       "      <td>8.0500</td>\n",
       "      <td>NaN</td>\n",
       "      <td>S</td>\n",
       "    </tr>\n",
       "    <tr>\n",
       "      <th>...</th>\n",
       "      <td>...</td>\n",
       "      <td>...</td>\n",
       "      <td>...</td>\n",
       "      <td>...</td>\n",
       "      <td>...</td>\n",
       "      <td>...</td>\n",
       "      <td>...</td>\n",
       "      <td>...</td>\n",
       "      <td>...</td>\n",
       "      <td>...</td>\n",
       "      <td>...</td>\n",
       "      <td>...</td>\n",
       "    </tr>\n",
       "    <tr>\n",
       "      <th>885</th>\n",
       "      <td>886</td>\n",
       "      <td>0</td>\n",
       "      <td>3</td>\n",
       "      <td>Rice, Mrs. William (Margaret Norton)</td>\n",
       "      <td>female</td>\n",
       "      <td>39.0</td>\n",
       "      <td>0</td>\n",
       "      <td>5</td>\n",
       "      <td>382652</td>\n",
       "      <td>29.1250</td>\n",
       "      <td>NaN</td>\n",
       "      <td>Q</td>\n",
       "    </tr>\n",
       "    <tr>\n",
       "      <th>886</th>\n",
       "      <td>887</td>\n",
       "      <td>0</td>\n",
       "      <td>2</td>\n",
       "      <td>Montvila, Rev. Juozas</td>\n",
       "      <td>male</td>\n",
       "      <td>27.0</td>\n",
       "      <td>0</td>\n",
       "      <td>0</td>\n",
       "      <td>211536</td>\n",
       "      <td>13.0000</td>\n",
       "      <td>NaN</td>\n",
       "      <td>S</td>\n",
       "    </tr>\n",
       "    <tr>\n",
       "      <th>887</th>\n",
       "      <td>888</td>\n",
       "      <td>1</td>\n",
       "      <td>1</td>\n",
       "      <td>Graham, Miss. Margaret Edith</td>\n",
       "      <td>female</td>\n",
       "      <td>19.0</td>\n",
       "      <td>0</td>\n",
       "      <td>0</td>\n",
       "      <td>112053</td>\n",
       "      <td>30.0000</td>\n",
       "      <td>B42</td>\n",
       "      <td>S</td>\n",
       "    </tr>\n",
       "    <tr>\n",
       "      <th>889</th>\n",
       "      <td>890</td>\n",
       "      <td>1</td>\n",
       "      <td>1</td>\n",
       "      <td>Behr, Mr. Karl Howell</td>\n",
       "      <td>male</td>\n",
       "      <td>26.0</td>\n",
       "      <td>0</td>\n",
       "      <td>0</td>\n",
       "      <td>111369</td>\n",
       "      <td>30.0000</td>\n",
       "      <td>C148</td>\n",
       "      <td>C</td>\n",
       "    </tr>\n",
       "    <tr>\n",
       "      <th>890</th>\n",
       "      <td>891</td>\n",
       "      <td>0</td>\n",
       "      <td>3</td>\n",
       "      <td>Dooley, Mr. Patrick</td>\n",
       "      <td>male</td>\n",
       "      <td>32.0</td>\n",
       "      <td>0</td>\n",
       "      <td>0</td>\n",
       "      <td>370376</td>\n",
       "      <td>7.7500</td>\n",
       "      <td>NaN</td>\n",
       "      <td>Q</td>\n",
       "    </tr>\n",
       "  </tbody>\n",
       "</table>\n",
       "<p>714 rows × 12 columns</p>\n",
       "</div>"
      ],
      "text/plain": [
       "     PassengerId  Survived  Pclass  \\\n",
       "0              1         0       3   \n",
       "1              2         1       1   \n",
       "2              3         1       3   \n",
       "3              4         1       1   \n",
       "4              5         0       3   \n",
       "..           ...       ...     ...   \n",
       "885          886         0       3   \n",
       "886          887         0       2   \n",
       "887          888         1       1   \n",
       "889          890         1       1   \n",
       "890          891         0       3   \n",
       "\n",
       "                                                  Name     Sex   Age  SibSp  \\\n",
       "0                              Braund, Mr. Owen Harris    male  22.0      1   \n",
       "1    Cumings, Mrs. John Bradley (Florence Briggs Th...  female  38.0      1   \n",
       "2                               Heikkinen, Miss. Laina  female  26.0      0   \n",
       "3         Futrelle, Mrs. Jacques Heath (Lily May Peel)  female  35.0      1   \n",
       "4                             Allen, Mr. William Henry    male  35.0      0   \n",
       "..                                                 ...     ...   ...    ...   \n",
       "885               Rice, Mrs. William (Margaret Norton)  female  39.0      0   \n",
       "886                              Montvila, Rev. Juozas    male  27.0      0   \n",
       "887                       Graham, Miss. Margaret Edith  female  19.0      0   \n",
       "889                              Behr, Mr. Karl Howell    male  26.0      0   \n",
       "890                                Dooley, Mr. Patrick    male  32.0      0   \n",
       "\n",
       "     Parch            Ticket     Fare Cabin Embarked  \n",
       "0        0         A/5 21171   7.2500   NaN        S  \n",
       "1        0          PC 17599  71.2833   C85        C  \n",
       "2        0  STON/O2. 3101282   7.9250   NaN        S  \n",
       "3        0            113803  53.1000  C123        S  \n",
       "4        0            373450   8.0500   NaN        S  \n",
       "..     ...               ...      ...   ...      ...  \n",
       "885      5            382652  29.1250   NaN        Q  \n",
       "886      0            211536  13.0000   NaN        S  \n",
       "887      0            112053  30.0000   B42        S  \n",
       "889      0            111369  30.0000  C148        C  \n",
       "890      0            370376   7.7500   NaN        Q  \n",
       "\n",
       "[714 rows x 12 columns]"
      ]
     },
     "execution_count": 4,
     "metadata": {},
     "output_type": "execute_result"
    }
   ],
   "source": [
    "df = df.dropna(subset=['Age']) # TODO: Filter out missing values for \"Age\"\n",
    "df"
   ]
  },
  {
   "cell_type": "code",
   "execution_count": 5,
   "id": "77ae87df",
   "metadata": {
    "pycharm": {
     "name": "#%%\n"
    }
   },
   "outputs": [
    {
     "data": {
      "text/plain": [
       "(array([40., 14., 15., 31., 79., 98., 85., 84., 73., 45., 35., 35., 29.,\n",
       "        16., 13., 11.,  4.,  5.,  1.,  1.]),\n",
       " array([ 0.42 ,  4.399,  8.378, 12.357, 16.336, 20.315, 24.294, 28.273,\n",
       "        32.252, 36.231, 40.21 , 44.189, 48.168, 52.147, 56.126, 60.105,\n",
       "        64.084, 68.063, 72.042, 76.021, 80.   ]),\n",
       " <BarContainer object of 20 artists>)"
      ]
     },
     "execution_count": 5,
     "metadata": {},
     "output_type": "execute_result"
    },
    {
     "data": {
      "image/png": "[encoded data removed]",
      "text/plain": [
       "<Figure size 640x480 with 1 Axes>"
      ]
     },
     "metadata": {},
     "output_type": "display_data"
    }
   ],
   "source": [
    "plt.hist(x=df['Age'], bins=20)"
   ]
  },
  {
   "cell_type": "markdown",
   "id": "9684dce2",
   "metadata": {
    "pycharm": {
     "name": "#%% md\n"
    }
   },
   "source": [
    "Question: Upon visual inspection, does it look normally distributed? Would you expect the data to be normally distributed? Justify your answer."
   ]
  },
  {
   "cell_type": "markdown",
   "id": "2c266d0f",
   "metadata": {
    "pycharm": {
     "name": "#%% md\n"
    }
   },
   "source": [
    "Answer: No. I would expect the distribution to roughly represent the demographic at the time.\n",
    "Additionally, I would assume that looking at the demographic is not enough, as the people bording a high class ship like\n",
    "the Titanic are surely not representing the general population around the time."
   ]
  },
  {
   "cell_type": "markdown",
   "id": "3437b04c",
   "metadata": {
    "pycharm": {
     "name": "#%% md\n"
    }
   },
   "source": [
    "Our statistic $f$ in this example will be the mean of the dataset $D$. Let's first calculate it on $D$. "
   ]
  },
  {
   "cell_type": "code",
   "execution_count": 6,
   "id": "7d1e835d",
   "metadata": {
    "pycharm": {
     "name": "#%%\n"
    }
   },
   "outputs": [
    {
     "data": {
      "text/plain": [
       "29.69911764705882"
      ]
     },
     "execution_count": 6,
     "metadata": {},
     "output_type": "execute_result"
    }
   ],
   "source": [
    "mean = np.mean(df['Age'])# TODO: Calculate the mean age\n",
    "mean"
   ]
  },
  {
   "cell_type": "markdown",
   "id": "016fcfa8",
   "metadata": {
    "pycharm": {
     "name": "#%% md\n"
    }
   },
   "source": [
    "# Distribution of estimators $\\hat{\\phi}^b$"
   ]
  },
  {
   "cell_type": "markdown",
   "id": "c5c74b1d",
   "metadata": {
    "pycharm": {
     "name": "#%% md\n"
    }
   },
   "source": [
    "Next, we want to simulate $B$ additional datasets as $D^b$ for $b=1,\\ldots,B$ and estimate $\\hat{\\phi}^b$ for each dataset. \n",
    "\n",
    "Let's assume that an oracle told you that the true parameters are $\\phi=29.7$ and $I^{-1}_N=0.55$. Now, let's investigate to which distribution the bootstrap samples converge with an increasing number of samples $B$."
   ]
  },
  {
   "cell_type": "code",
   "execution_count": 7,
   "id": "e4497cd1",
   "metadata": {
    "pycharm": {
     "name": "#%%\n"
    }
   },
   "outputs": [],
   "source": [
    "def bootstrap(B, samples_per_dataset):\n",
    "    rng = default_rng()\n",
    "\n",
    "    # TODO: Sample B datasets with samples_per_dataset elements for column \"Age\"\n",
    "    samples = rng.choice(df['Age'], size=(B, samples_per_dataset))\n",
    "\n",
    "    # TODO: Calculate estimator on each dataset\n",
    "    means = np.mean(samples, axis=1)\n",
    "    return samples, means"
   ]
  },
  {
   "cell_type": "code",
   "execution_count": 15,
   "id": "c3b908cb",
   "metadata": {
    "pycharm": {
     "name": "#%%\n"
    }
   },
   "outputs": [
    {
     "data": {
      "image/png": "[encoded data removed]",
      "text/plain": [
       "<Figure size 640x480 with 1 Axes>"
      ]
     },
     "metadata": {},
     "output_type": "display_data"
    },
    {
     "data": {
      "image/png": "[encoded data removed]",
      "text/plain": [
       "<Figure size 640x480 with 1 Axes>"
      ]
     },
     "metadata": {},
     "output_type": "display_data"
    },
    {
     "data": {
      "image/png": "[encoded data removed]",
      "text/plain": [
       "<Figure size 640x480 with 1 Axes>"
      ]
     },
     "metadata": {},
     "output_type": "display_data"
    },
    {
     "data": {
      "image/png": "[encoded data removed]",
      "text/plain": [
       "<Figure size 640x480 with 1 Axes>"
      ]
     },
     "metadata": {},
     "output_type": "display_data"
    }
   ],
   "source": [
    "from scipy.stats import norm\n",
    "\n",
    "samples_per_dataset = df[\"Age\"].size\n",
    "\n",
    "for B in [10, 100, 1000, 10000]:\n",
    "    samples, means = bootstrap(B, samples_per_dataset)\n",
    "\n",
    "    x = np.arange(25, 35, 0.1)\n",
    "    y = norm.pdf(x, loc=np.mean(means), scale=np.std(means))\n",
    "\n",
    "    plt.hist(means, bins=20, density=True)\n",
    "    plt.plot(x, y)\n",
    "    plt.title(f\"{B=}\")\n",
    "    plt.show()"
   ]
  },
  {
   "cell_type": "markdown",
   "id": "fc119dae",
   "metadata": {
    "pycharm": {
     "name": "#%% md\n"
    }
   },
   "source": [
    "Question: What distribution do you observe? Explain why we get this distribution."
   ]
  },
  {
   "cell_type": "markdown",
   "id": "a4f21172",
   "metadata": {
    "pycharm": {
     "name": "#%% md\n"
    }
   },
   "source": [
    "Answer: The distribution seems to converge to a normal distribution. The central limit theorem states, that sampling means from any distribution will converge to a normal distribution."
   ]
  },
  {
   "cell_type": "markdown",
   "id": "104e5187",
   "metadata": {
    "pycharm": {
     "name": "#%% md\n"
    }
   },
   "source": [
    "# Basic Bootstrap/ Reverse Percentile Interval"
   ]
  },
  {
   "cell_type": "markdown",
   "id": "2e7bd39e",
   "metadata": {
    "pycharm": {
     "name": "#%% md\n"
    }
   },
   "source": [
    "Using the previously sampled datasets $D^b$ and the estimator $\\hat{\\phi}$, we now calculate confidence intervals with one of the existing methods: the [Basic Bootstrap](https://en.wikipedia.org/wiki/Bootstrapping_(statistics)#Methods_for_bootstrap_confidence_intervals).\n",
    "With this method, the confidence interval is defined as $(2 \\hat{\\phi}-\\hat{\\phi}^B_{1-\\alpha/2}, 2 \\hat{\\phi}-\\hat{\\phi}^B_{\\alpha/2})$ where $\\hat{\\phi}^B_{\\alpha/2}$ is the $\\alpha/2$ percentile of all bootstrapped estimators $\\hat{\\phi}^1, \\ldots, \\hat{\\phi}^B$."
   ]
  },
  {
   "cell_type": "markdown",
   "id": "1f1fd85f",
   "metadata": {
    "pycharm": {
     "name": "#%% md\n"
    }
   },
   "source": [
    "Calculate the 90% confidence interval using the basic bootstrap."
   ]
  },
  {
   "cell_type": "code",
   "execution_count": 19,
   "id": "b55c408a",
   "metadata": {
    "pycharm": {
     "name": "#%%\n"
    }
   },
   "outputs": [
    {
     "data": {
      "text/plain": [
       "<matplotlib.lines.Line2D at 0x2889be25190>"
      ]
     },
     "execution_count": 19,
     "metadata": {},
     "output_type": "execute_result"
    },
    {
     "data": {
      "image/png": "[encoded data removed]",
      "text/plain": [
       "<Figure size 640x480 with 1 Axes>"
      ]
     },
     "metadata": {},
     "output_type": "display_data"
    }
   ],
   "source": [
    "_, means = bootstrap(10000, samples_per_dataset)\n",
    "mean = np.mean(means)\n",
    "std = np.std(means)\n",
    "\n",
    "alpha = 0.05 # TODO: Set alpha\n",
    "lower_bound = mean - 3*std # TODO: Lower bound of confidence interval\n",
    "upper_bound = mean + 3*std # TODO: Upper bound of confidence interval\n",
    "\n",
    "plt.hist(df[\"Age\"], bins=20)\n",
    "plt.axvline(lower_bound, linestyle='--', color='black') \n",
    "plt.axvline(mean, linestyle='-', color='black')\n",
    "plt.axvline(upper_bound, linestyle='--', color='black')"
   ]
  },
  {
   "cell_type": "markdown",
   "id": "966f32bc",
   "metadata": {
    "pycharm": {
     "name": "#%% md\n"
    }
   },
   "source": [
    "Now, let's repeat this for $B=10$."
   ]
  },
  {
   "cell_type": "code",
   "execution_count": 20,
   "id": "176d93a9",
   "metadata": {
    "pycharm": {
     "name": "#%%\n"
    }
   },
   "outputs": [],
   "source": [
    "B=10\n",
    "samples, means = bootstrap(B, samples_per_dataset)\n",
    "\n",
    "mean = np.mean(means)\n",
    "std = np.std(means)\n",
    "\n",
    "lower_bound = mean - 3*std # TODO: Lower bound of confidence interval\n",
    "upper_bound = mean + 3*std # TODO: Upper bound of confidence interval"
   ]
  },
  {
   "cell_type": "code",
   "execution_count": 21,
   "id": "5b75fff0",
   "metadata": {
    "pycharm": {
     "name": "#%%\n"
    }
   },
   "outputs": [
    {
     "data": {
      "text/plain": [
       "<matplotlib.lines.Line2D at 0x2889bee4c40>"
      ]
     },
     "execution_count": 21,
     "metadata": {},
     "output_type": "execute_result"
    },
    {
     "data": {
      "image/png": "[encoded data removed]",
      "text/plain": [
       "<Figure size 640x480 with 1 Axes>"
      ]
     },
     "metadata": {},
     "output_type": "display_data"
    }
   ],
   "source": [
    "plt.hist(df[\"Age\"])\n",
    "plt.axvline(lower_bound, linestyle='--', color='black') \n",
    "plt.axvline(mean, linestyle='-', color='black')\n",
    "plt.axvline(upper_bound, linestyle='--', color='black')"
   ]
  },
  {
   "cell_type": "markdown",
   "id": "4b6c3a69",
   "metadata": {
    "pycharm": {
     "name": "#%% md\n"
    }
   },
   "source": [
    "Question: What can you observe when comparing the confidence intervals for $B=10$ and $B=10000$? What limitation of bootstrapping does this illustrate?"
   ]
  },
  {
   "cell_type": "markdown",
   "id": "685602c4",
   "metadata": {
    "pycharm": {
     "name": "#%% md\n"
    }
   },
   "source": [
    "Answer: The confidence interval for B=10 is larger than at B=10000. "
   ]
  },
  {
   "cell_type": "code",
   "execution_count": null,
   "id": "e51ed271",
   "metadata": {},
   "outputs": [],
   "source": []
  }
 ],
 "metadata": {
  "kernelspec": {
   "display_name": "Python 3 (ipykernel)",
   "language": "python",
   "name": "python3"
  },
  "language_info": {
   "codemirror_mode": {
    "name": "ipython",
    "version": 3
   },
   "file_extension": ".py",
   "mimetype": "text/x-python",
   "name": "python",
   "nbconvert_exporter": "python",
   "pygments_lexer": "ipython3",
   "version": "3.11.0"
  },
  "toc": {
   "base_numbering": 1,
   "nav_menu": {},
   "number_sections": true,
   "sideBar": true,
   "skip_h1_title": false,
   "title_cell": "Table of Contents",
   "title_sidebar": "Contents",
   "toc_cell": false,
   "toc_position": {},
   "toc_section_display": true,
   "toc_window_display": false
  },
  "vscode": {
   "interpreter": {
    "hash": "b0fa6594d8f4cbf19f97940f81e996739fb7646882a419484c72d19e05852a7e"
   }
  }
 },
 "nbformat": 4,
 "nbformat_minor": 5
}
